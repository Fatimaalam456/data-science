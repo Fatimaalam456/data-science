{
 "cells": [
  {
   "cell_type": "code",
   "execution_count": 3,
   "id": "3cb1e3e4",
   "metadata": {
    "scrolled": true
   },
   "outputs": [
    {
     "name": "stdout",
     "output_type": "stream",
     "text": [
      "TWINKLE TWINKLE LITTLE STAR\n",
      "              HOW ARE WONDER , WHAT YOU ARE\n",
      "UP ABOVE THE WORLD SO HIGH\n",
      "              LIKE A DIAMOND , IN THE SKY\n",
      "TWINKLE TWINKLE LITTLE STAR\n",
      "               HOW I WONDER WHAT YOU ARE\n"
     ]
    }
   ],
   "source": [
    "print(\"TWINKLE TWINKLE LITTLE STAR\")\n",
    "print(\"              HOW ARE WONDER , WHAT YOU ARE\")\n",
    "print(\"UP ABOVE THE WORLD SO HIGH\")\n",
    "print(\"              LIKE A DIAMOND , IN THE SKY\")\n",
    "print(\"TWINKLE TWINKLE LITTLE STAR\")\n",
    "print(\"               HOW I WONDER WHAT YOU ARE\")"
   ]
  },
  {
   "cell_type": "markdown",
   "id": "d75f9b44",
   "metadata": {},
   "source": [
    "                    ANS NO 2"
   ]
  },
  {
   "cell_type": "code",
   "execution_count": 7,
   "id": "a3500b49",
   "metadata": {
    "scrolled": true
   },
   "outputs": [
    {
     "name": "stdout",
     "output_type": "stream",
     "text": [
      "python version\n",
      "3.9.7 (default, Sep 16 2021, 16:59:28) [MSC v.1916 64 bit (AMD64)]\n",
      "sys.version_info(major=3, minor=9, micro=7, releaselevel='final', serial=0)\n"
     ]
    }
   ],
   "source": [
    "import sys\n",
    "print(\"python version\");\n",
    "print(sys.version)\n",
    "print(sys.version_info)\n",
    "\n"
   ]
  },
  {
   "cell_type": "code",
   "execution_count": 7,
   "id": "1a91ab1b",
   "metadata": {},
   "outputs": [
    {
     "name": "stdout",
     "output_type": "stream",
     "text": [
      "current date and time   :-  \n",
      "03-01-22    07:05:57\n"
     ]
    }
   ],
   "source": [
    "\n",
    "    \n",
    "    import datetime\n",
    "now = datetime.datetime.now()\n",
    "print(\"current date and time   :-  \")\n",
    "print(now.strftime(\"%d-%m-%y    %H:%M:%S\"))   \n",
    "\n"
   ]
  },
  {
   "cell_type": "markdown",
   "id": "94c936bf",
   "metadata": {},
   "source": [
    "     ANS NO 4\n"
   ]
  },
  {
   "cell_type": "code",
   "execution_count": 8,
   "id": "576fe639",
   "metadata": {},
   "outputs": [
    {
     "name": "stdout",
     "output_type": "stream",
     "text": [
      "Enter radius of a circle23\n",
      "The radius of a cirle is 1661.589\n"
     ]
    }
   ],
   "source": [
    "radius=int(input(\"Enter radius of a circle\"));\n",
    "pi=3.141\n",
    "Area=pi*radius**2\n",
    "print(\"The radius of a cirle is\"  ,Area)"
   ]
  },
  {
   "cell_type": "markdown",
   "id": "69389875",
   "metadata": {},
   "source": [
    "              \n",
    "  ANS NO 5         \n",
    "            "
   ]
  },
  {
   "cell_type": "code",
   "execution_count": 1,
   "id": "b6a81fd6",
   "metadata": {
    "scrolled": true
   },
   "outputs": [
    {
     "name": "stdout",
     "output_type": "stream",
     "text": [
      "Enter your First Namefatima\n",
      "Enter yiur Last Namealam\n",
      "alam fatima\n"
     ]
    }
   ],
   "source": [
    "firstName = input(\"Enter your First Name\");\n",
    "lastName = input(\"Enter yiur Last Name\");\n",
    "print(lastName + \" \" + firstName)"
   ]
  },
  {
   "cell_type": "code",
   "execution_count": 1,
   "id": "f690f193",
   "metadata": {
    "scrolled": true
   },
   "outputs": [
    {
     "name": "stdout",
     "output_type": "stream",
     "text": [
      "Enter your First Namefatima\n",
      "Enter yiur Last Namealam\n",
      "alam fatima\n"
     ]
    }
   ],
   "source": [
    "firstName = input(\"Enter your First Name\");\n",
    "lastName = input(\"Enter yiur Last Name\");\n",
    "print(lastName + \" \" + firstName)"
   ]
  },
  {
   "cell_type": "markdown",
   "id": "ac9a168b",
   "metadata": {},
   "source": [
    "ANS NO 6\n"
   ]
  },
  {
   "cell_type": "code",
   "execution_count": 6,
   "id": "4a9f80d7",
   "metadata": {
    "scrolled": true
   },
   "outputs": [
    {
     "name": "stdout",
     "output_type": "stream",
     "text": [
      "Enter Number 165\n",
      "Enter Number 256\n",
      "65  +  56  =  121\n"
     ]
    }
   ],
   "source": [
    "num1 = int(input(\"Enter Number 1\"));\n",
    "num2 = int(input(\"Enter Number 2\"));\n",
    "result = num1 + num2\n",
    "print(num1,\" + \",num2, \" = \",result);"
   ]
  },
  {
   "cell_type": "code",
   "execution_count": null,
   "id": "d55c2a11",
   "metadata": {},
   "outputs": [],
   "source": []
  }
 ],
 "metadata": {
  "kernelspec": {
   "display_name": "Python 3 (ipykernel)",
   "language": "python",
   "name": "python3"
  },
  "language_info": {
   "codemirror_mode": {
    "name": "ipython",
    "version": 3
   },
   "file_extension": ".py",
   "mimetype": "text/x-python",
   "name": "python",
   "nbconvert_exporter": "python",
   "pygments_lexer": "ipython3",
   "version": "3.9.7"
  }
 },
 "nbformat": 4,
 "nbformat_minor": 5
}
